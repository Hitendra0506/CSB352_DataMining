{
 "cells": [
  {
   "cell_type": "code",
   "execution_count": 1,
   "metadata": {},
   "outputs": [],
   "source": [
    "import numpy as np\n",
    "import pandas as pd\n",
    "import seaborn as sns"
   ]
  },
  {
   "cell_type": "code",
   "execution_count": 5,
   "metadata": {},
   "outputs": [],
   "source": [
    "data = sns.load_dataset(\"iris\")\n",
    "data = np.array(data)[:,:-1]\n",
    "data = data.astype('float')"
   ]
  },
  {
   "cell_type": "code",
   "execution_count": 6,
   "metadata": {},
   "outputs": [],
   "source": [
    "def k_medoids(data,k):\n",
    "    #Initialize\n",
    "    med_index = np.random.choice(data.shape[0],k)\n",
    "    non_med_index = np.array([i for i in range(data.shape[0]) if i not in med_index])\n",
    "    med = data[med_index].astype('float')\n",
    "    non_med = data[non_med_index].astype('float')\n",
    "\n",
    "    #Assign points to medoids\n",
    "    dist = np.sqrt(-2 * np.dot(non_med,med.T) + np.sum(med**2,axis=1) + np.sum(non_med**2, axis=1)[:, np.newaxis])\n",
    "    assigned = np.argmin(dist,axis = 1).reshape(non_med.shape[0],1).astype('int')\n",
    "    cost = np.sum(np.min(dist,axis = 1))\n",
    "\n",
    "    #Repeating Clustering\n",
    "    for m in range(med.shape[0]):\n",
    "        for o in range(non_med.shape[0]):\n",
    "            prev = cost\n",
    "\n",
    "            #Swap\n",
    "            temp = med[m].copy()\n",
    "            med[m] = non_med[o].copy()\n",
    "            non_med[o] = temp.copy()\n",
    "\n",
    "            #Update Cost\n",
    "            dist = np.sqrt(-2 * np.dot(non_med,med.T) + np.sum(med**2,axis=1) + np.sum(non_med**2, axis=1)[:, np.newaxis])\n",
    "            assigned = np.argmin(dist,axis = 1).reshape(non_med.shape[0],1).astype('int')\n",
    "            cost = np.sum(np.min(dist,axis = 1))\n",
    "\n",
    "            #Check if cost decreases\n",
    "            if cost > prev:\n",
    "                temp = med[m].copy()\n",
    "                med[m] = non_med[o].copy()\n",
    "                non_med[o] = temp.copy()\n",
    "                cost = prev\n",
    "    return cost"
   ]
  },
  {
   "cell_type": "code",
   "execution_count": 10,
   "metadata": {},
   "outputs": [
    {
     "data": {
      "text/plain": [
       "<matplotlib.axes._subplots.AxesSubplot at 0x18a20a4ef60>"
      ]
     },
     "execution_count": 10,
     "metadata": {},
     "output_type": "execute_result"
    },
    {
     "data": {
      "image/png": "[encoded data removed]",
      "text/plain": [
       "<Figure size 432x288 with 1 Axes>"
      ]
     },
     "metadata": {
      "needs_background": "light"
     },
     "output_type": "display_data"
    }
   ],
   "source": [
    "noc = []\n",
    "err = []\n",
    "for k in range(2,10):\n",
    "    error = k_medoids(data,k)\n",
    "    noc.append(k)\n",
    "    err.append(error)\n",
    "sns.lineplot(x=noc,y=err)"
   ]
  },
  {
   "cell_type": "code",
   "execution_count": null,
   "metadata": {},
   "outputs": [],
   "source": []
  }
 ],
 "metadata": {
  "kernelspec": {
   "display_name": "Python 3",
   "language": "python",
   "name": "python3"
  },
  "language_info": {
   "codemirror_mode": {
    "name": "ipython",
    "version": 3
   },
   "file_extension": ".py",
   "mimetype": "text/x-python",
   "name": "python",
   "nbconvert_exporter": "python",
   "pygments_lexer": "ipython3",
   "version": "3.7.3"
  }
 },
 "nbformat": 4,
 "nbformat_minor": 2
}
