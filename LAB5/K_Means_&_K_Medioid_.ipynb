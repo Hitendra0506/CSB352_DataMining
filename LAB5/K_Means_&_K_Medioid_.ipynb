{
 "cells": [
  {
   "cell_type": "markdown",
   "metadata": {
    "colab_type": "text",
    "id": "WwnVmCc8otXh"
   },
   "source": [
    "# K Means and K Medoids\n",
    "\n",
    "\n",
    "\n",
    "\n",
    "\n",
    "\n",
    "\n",
    "\n",
    "\n",
    "\n"
   ]
  },
  {
   "cell_type": "code",
   "execution_count": 1,
   "metadata": {
    "colab": {},
    "colab_type": "code",
    "id": "Aerk4hMQ9DBD"
   },
   "outputs": [],
   "source": [
    "import os\n",
    "import numpy as np\n",
    "import pandas as pd\n",
    "import matplotlib.pylab as plt\n"
   ]
  },
  {
   "cell_type": "markdown",
   "metadata": {
    "colab_type": "text",
    "id": "qxghmkAEojUK"
   },
   "source": [
    "\n",
    "\n",
    "## Data Cleaning, Processing\n"
   ]
  },
  {
   "cell_type": "code",
   "execution_count": 2,
   "metadata": {
    "colab": {},
    "colab_type": "code",
    "id": "bQTuQqqJ9DBI"
   },
   "outputs": [],
   "source": [
    "def get_data(filename,class_column):\n",
    "    \"\"\"\n",
    "        Returns train_df , val_df, test_df , dict_map\n",
    "        filename     : Relative filename of the directory\n",
    "        class_column : Name of the class column\n",
    "        ratio        : train_ratio\n",
    "    \"\"\"\n",
    "    \n",
    "    df = pd.read_csv(filename,header=None)\n",
    "    train = { 'x' : []  }\n",
    "\n",
    "    classes  = df[class_column].unique().tolist()\n",
    "    dict_map = dict(enumerate(classes))\n",
    "    \n",
    "    for index,clss in dict_map.items():\n",
    "        \n",
    "        clss_df = df[df[class_column] == clss].sample(frac=1)\n",
    "        clss_df = clss_df.drop(columns=class_column)\n",
    "        n_rows = len(clss_df) \n",
    "        train['x'].append(clss_df.iloc[0 : n_rows].values.reshape(-1,4))     \n",
    "    \n",
    "    train['x'] = np.concatenate(train['x'])\n",
    "\n",
    "    return train\n",
    "\n",
    "def get_fake_data():\n",
    "    \n",
    "    train = dict()\n",
    "    train['x'] = np.array([ [100,5],\n",
    "                            [90,7],\n",
    "                            [15,96],\n",
    "                            [20,105],\n",
    "                            [85,12],\n",
    "                            [18,110],\n",
    "                            [1000,1000]\n",
    "                         ])\n",
    "    \n",
    "    return train\n",
    "    "
   ]
  },
  {
   "cell_type": "code",
   "execution_count": 3,
   "metadata": {
    "colab": {},
    "colab_type": "code",
    "id": "O8-krdFrFvXQ"
   },
   "outputs": [],
   "source": [
    "train_iris = get_data(\"iris.data\",4)\n",
    "train_fake = get_fake_data()\n"
   ]
  },
  {
   "cell_type": "markdown",
   "metadata": {
    "colab": {},
    "colab_type": "code",
    "id": "HWp6BlAyW78o"
   },
   "source": [
    "## K - Means"
   ]
  },
  {
   "cell_type": "code",
   "execution_count": 4,
   "metadata": {
    "colab": {},
    "colab_type": "code",
    "id": "byFmVExy8djJ"
   },
   "outputs": [],
   "source": [
    "class K_Means:\n",
    "\n",
    "    def __init__(self,data,k):\n",
    "        self.data = data\n",
    "        self.k = k\n",
    "        index = np.random.choice(data.shape[0],k)\n",
    "        self.centroids = self.data[index]\n",
    "        self.data_clss = np.random.randint(0,high = k-1,size=(data.shape[0]))\n",
    "        \n",
    "    def get_distortion(self,kth_cls,centroid):\n",
    "        \n",
    "        cluster_points = self.data[kth_cls == self.data_clss]\n",
    "        distortion = ((cluster_points - centroid)**2).sum(axis=-1).sum()\n",
    "        return distortion\n",
    "        \n",
    "        \n",
    "    def train(self,no_iters):\n",
    "        \n",
    "        distortion = None\n",
    "        for i in range(no_iters):\n",
    "            distances = np.sqrt(((self.data[:,np.newaxis] - self.centroids)**2).sum(axis=-1))\n",
    "            self.data_clss = np.argmin(distances,axis=-1)\n",
    "            \n",
    "            centroid = []\n",
    "            distortions = []\n",
    "            for kth_cls in range(self.k):\n",
    "                centroid.append(self.data[kth_cls == self.data_clss].mean(axis=0))\n",
    "                distortions.append(self.get_distortion(kth_cls,centroid[kth_cls]))\n",
    "            \n",
    "            distortion = np.array(distortions)\n",
    "            self.centroids = np.array(centroid)\n",
    "        \n",
    "        return distortion.sum()\n",
    "        \n",
    "    def predict(self,test_point):\n",
    "        \n",
    "        distance = np.sqrt((((self.centroid-test_point)**2).sum(axis=-1)))\n",
    "        clss = np.argmin(distance,axis=-1)\n",
    "        return clss\n"
   ]
  },
  {
   "cell_type": "code",
   "execution_count": 17,
   "metadata": {
    "colab": {},
    "colab_type": "code",
    "id": "Cavc_ojL8djM"
   },
   "outputs": [
    {
     "data": {
      "text/plain": [
       "[<matplotlib.lines.Line2D at 0x1deed45f588>]"
      ]
     },
     "execution_count": 17,
     "metadata": {},
     "output_type": "execute_result"
    },
    {
     "data": {
      "image/png": "[encoded data removed]",
      "text/plain": [
       "<Figure size 432x288 with 1 Axes>"
      ]
     },
     "metadata": {
      "needs_background": "light"
     },
     "output_type": "display_data"
    }
   ],
   "source": [
    "distortions = list()\n",
    "for k in range(2,9):\n",
    "\n",
    "    k_means = K_Means(train_iris['x'],k)\n",
    "    distortion = k_means.train(10)\n",
    "    distortions.append(distortion)\n",
    "plt.plot([2,3,4,5,6,7,8],distortions)\n"
   ]
  },
  {
   "cell_type": "markdown",
   "metadata": {},
   "source": [
    "# K Medioid"
   ]
  },
  {
   "cell_type": "code",
   "execution_count": 6,
   "metadata": {},
   "outputs": [],
   "source": [
    "class K_Medioid:\n",
    "\n",
    "    def __init__(self,data,k):\n",
    "        self.data = data\n",
    "        self.k = k\n",
    "        index = np.random.choice(data.shape[0],k)\n",
    "        self.medioids = self.data[index]\n",
    "        self.data_clss = np.random.randint(0,high = k-1,size=(data.shape[0]))\n",
    "        \n",
    "    def get_distortion(self,kth_cls,medioid):\n",
    "        \n",
    "        cluster_points = self.data[kth_cls == self.data_clss]\n",
    "        distortion = ((cluster_points - medioid)**2).sum(axis=-1).sum()\n",
    "        return distortion\n",
    "        \n",
    "        \n",
    "    def train(self,no_iters):\n",
    "        \n",
    "        distortion_old = np.finfo(np.float64).max\n",
    "        distortion_new = None\n",
    "        for i in range(no_iters):\n",
    "            distances = np.sqrt(((self.data[:,np.newaxis] - self.centroids)**2).sum(axis=-1))\n",
    "            self.data_clss = np.argmin(distances,axis=-1) \n",
    "            \n",
    "            distortion_new = 0\n",
    "            for kth_cls in range(self.k):\n",
    "                distortion_new += self.get_distortion(kth_cls,self.medioid[kth_cls])\n",
    "            \n",
    "            if distortion_new < distortion_old:\n",
    "                break\n",
    "            \n",
    "            self.index = np.random.choice(self.data.shape[0],k)\n",
    "            self.medioids = self.data[index]\n",
    "            distortion_old = distortion_new\n",
    "        \n",
    "        return distortion_new\n",
    "        \n",
    "    def predict(self,test_point):\n",
    "        \n",
    "        distance = np.sqrt((((self.medioids-test_point)**2).sum(axis=-1)))\n",
    "        clss = np.argmin(distance,axis=-1)\n",
    "        return clss\n"
   ]
  },
  {
   "cell_type": "code",
   "execution_count": 7,
   "metadata": {},
   "outputs": [
    {
     "data": {
      "text/plain": [
       "[<matplotlib.lines.Line2D at 0x7f29dd216668>]"
      ]
     },
     "execution_count": 7,
     "metadata": {},
     "output_type": "execute_result"
    },
    {
     "data": {
      "image/png": "[encoded data removed]",
      "text/plain": [
       "<Figure size 432x288 with 1 Axes>"
      ]
     },
     "metadata": {
      "needs_background": "light"
     },
     "output_type": "display_data"
    }
   ],
   "source": [
    "distortions = list()\n",
    "for k in range(2,9):\n",
    "\n",
    "    k_means = K_Means(train_iris['x'],k)\n",
    "    distortion = k_means.train(10)\n",
    "    distortions.append(distortion)\n",
    "plt.plot([2,3,4,5,6,7,8],distortions)"
   ]
  },
  {
   "cell_type": "code",
   "execution_count": null,
   "metadata": {},
   "outputs": [],
   "source": []
  }
 ],
 "metadata": {
  "colab": {
   "collapsed_sections": [],
   "name": "K_Means_&_K_Medioid_.ipynb",
   "provenance": []
  },
  "kernelspec": {
   "display_name": "Python 3",
   "language": "python",
   "name": "python3"
  },
  "language_info": {
   "codemirror_mode": {
    "name": "ipython",
    "version": 3
   },
   "file_extension": ".py",
   "mimetype": "text/x-python",
   "name": "python",
   "nbconvert_exporter": "python",
   "pygments_lexer": "ipython3",
   "version": "3.7.3"
  }
 },
 "nbformat": 4,
 "nbformat_minor": 4
}
