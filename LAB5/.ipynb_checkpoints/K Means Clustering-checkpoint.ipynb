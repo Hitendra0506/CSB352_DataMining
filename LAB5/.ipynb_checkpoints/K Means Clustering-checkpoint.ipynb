{
 "cells": [
  {
   "cell_type": "code",
   "execution_count": 1,
   "metadata": {},
   "outputs": [],
   "source": [
    "import numpy as np\n",
    "import pandas as pd\n",
    "import seaborn as sns"
   ]
  },
  {
   "cell_type": "code",
   "execution_count": 2,
   "metadata": {},
   "outputs": [],
   "source": [
    "data = [[100,5],[90,7],[15,96],[20,105],[85,12],[18,110]]\n",
    "df = pd.DataFrame(data,index='1 2 3 4 5 6'.split(),columns='X Y'.split())"
   ]
  },
  {
   "cell_type": "code",
   "execution_count": 3,
   "metadata": {},
   "outputs": [
    {
     "data": {
      "text/html": [
       "<div>\n",
       "<style scoped>\n",
       "    .dataframe tbody tr th:only-of-type {\n",
       "        vertical-align: middle;\n",
       "    }\n",
       "\n",
       "    .dataframe tbody tr th {\n",
       "        vertical-align: top;\n",
       "    }\n",
       "\n",
       "    .dataframe thead th {\n",
       "        text-align: right;\n",
       "    }\n",
       "</style>\n",
       "<table border=\"1\" class=\"dataframe\">\n",
       "  <thead>\n",
       "    <tr style=\"text-align: right;\">\n",
       "      <th></th>\n",
       "      <th>X</th>\n",
       "      <th>Y</th>\n",
       "    </tr>\n",
       "  </thead>\n",
       "  <tbody>\n",
       "    <tr>\n",
       "      <th>1</th>\n",
       "      <td>100</td>\n",
       "      <td>5</td>\n",
       "    </tr>\n",
       "    <tr>\n",
       "      <th>2</th>\n",
       "      <td>90</td>\n",
       "      <td>7</td>\n",
       "    </tr>\n",
       "    <tr>\n",
       "      <th>3</th>\n",
       "      <td>15</td>\n",
       "      <td>96</td>\n",
       "    </tr>\n",
       "    <tr>\n",
       "      <th>4</th>\n",
       "      <td>20</td>\n",
       "      <td>105</td>\n",
       "    </tr>\n",
       "    <tr>\n",
       "      <th>5</th>\n",
       "      <td>85</td>\n",
       "      <td>12</td>\n",
       "    </tr>\n",
       "    <tr>\n",
       "      <th>6</th>\n",
       "      <td>18</td>\n",
       "      <td>110</td>\n",
       "    </tr>\n",
       "  </tbody>\n",
       "</table>\n",
       "</div>"
      ],
      "text/plain": [
       "     X    Y\n",
       "1  100    5\n",
       "2   90    7\n",
       "3   15   96\n",
       "4   20  105\n",
       "5   85   12\n",
       "6   18  110"
      ]
     },
     "execution_count": 3,
     "metadata": {},
     "output_type": "execute_result"
    }
   ],
   "source": [
    "df"
   ]
  },
  {
   "cell_type": "code",
   "execution_count": 123,
   "metadata": {},
   "outputs": [],
   "source": [
    "def InitializeCentroid(k,data):\n",
    "    df = pd.DataFrame(data,index='1 2 3 4 5 6'.split(),columns='X Y'.split())\n",
    "    centroids = np.random.randint(low =df.min().min()  , high =df.max().max() ,size = (k,2))\n",
    "    return centroids"
   ]
  },
  {
   "cell_type": "code",
   "execution_count": 172,
   "metadata": {},
   "outputs": [],
   "source": [
    "def kMeans(data,k):\n",
    "    centroids = InitializeCentroid(k,data)\n",
    "    distances = np.array([np.sqrt(np.sum((data - centroid)**2,axis=1)) for centroid in centroids])\n",
    "    distances = distances.transpose()\n",
    "    index = np.argmin(distances,axis = 1).reshape(data.shape[0],1)\n",
    "    index = index.astype('int')\n",
    "    cluster = np.append(data,index,axis = 1)\n",
    "    change = True\n",
    "    while change != False:\n",
    "        prev = index\n",
    "        for i in np.unique(index):\n",
    "            res = np.where(cluster[:,-1] == i)[0]\n",
    "            res = res.astype('int')\n",
    "            centroids[i,:] = np.mean(data[res,:],axis=0)\n",
    "        distances = np.array([np.sqrt(np.sum((data - centroid)**2,axis=1)) for centroid in centroids])\n",
    "        distances = distances.transpose()\n",
    "        index = np.argmin(distances,axis = 1).reshape(data.shape[0],1)\n",
    "        index = index.astype('int')\n",
    "        cluster = np.append(data,index,axis = 1)\n",
    "        change = not(np.array_equal(index,prev))\n",
    "    return cluster,centroids"
   ]
  },
  {
   "cell_type": "code",
   "execution_count": 173,
   "metadata": {},
   "outputs": [],
   "source": [
    "cluster,centroids = kMeans(data,3)"
   ]
  },
  {
   "cell_type": "code",
   "execution_count": 174,
   "metadata": {},
   "outputs": [
    {
     "data": {
      "text/plain": [
       "array([[ 17, 103],\n",
       "       [102,  42],\n",
       "       [ 91,   8]])"
      ]
     },
     "execution_count": 174,
     "metadata": {},
     "output_type": "execute_result"
    }
   ],
   "source": [
    "centroids"
   ]
  },
  {
   "cell_type": "code",
   "execution_count": null,
   "metadata": {},
   "outputs": [],
   "source": []
  }
 ],
 "metadata": {
  "kernelspec": {
   "display_name": "Python 3",
   "language": "python",
   "name": "python3"
  },
  "language_info": {
   "codemirror_mode": {
    "name": "ipython",
    "version": 3
   },
   "file_extension": ".py",
   "mimetype": "text/x-python",
   "name": "python",
   "nbconvert_exporter": "python",
   "pygments_lexer": "ipython3",
   "version": "3.7.3"
  }
 },
 "nbformat": 4,
 "nbformat_minor": 2
}
