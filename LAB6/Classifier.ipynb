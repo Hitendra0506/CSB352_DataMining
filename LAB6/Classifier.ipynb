{
 "cells": [
  {
   "cell_type": "code",
   "execution_count": 66,
   "metadata": {},
   "outputs": [],
   "source": [
    "import pandas as pd\n",
    "import numpy as np\n",
    "import timeit\n",
    "import seaborn as sns\n",
    "from sklearn import metrics\n"
   ]
  },
  {
   "cell_type": "code",
   "execution_count": 67,
   "metadata": {},
   "outputs": [],
   "source": [
    "df1 = pd.read_csv('adult+stretch.data') \n",
    "df2 = pd.read_csv('adult-stretch.data') \n",
    "df3 = pd.read_csv('yellow-small+adult-stretch.data') \n",
    "df4 = pd.read_csv('yellow-small.data') \n",
    "df = pd.concat([df1,df2,df3,df4])"
   ]
  },
  {
   "cell_type": "markdown",
   "metadata": {},
   "source": [
    "# STEP - 2"
   ]
  },
  {
   "cell_type": "code",
   "execution_count": 68,
   "metadata": {},
   "outputs": [],
   "source": [
    "from sklearn.model_selection import train_test_split\n",
    "train, test = train_test_split(df, test_size=0.3)\n",
    "train = train.astype('category')\n",
    "test = test.astype('category')\n",
    "x_train = train[['YELLOW','SMALL','STRETCH','ADULT']]\n",
    "x_test = test[['YELLOW','SMALL','STRETCH','ADULT']]\n",
    "y_train = train[['T']]\n",
    "y_test = test[['T']]"
   ]
  },
  {
   "cell_type": "markdown",
   "metadata": {},
   "source": [
    "# STEP - 3"
   ]
  },
  {
   "cell_type": "markdown",
   "metadata": {},
   "source": [
    "## KNN"
   ]
  },
  {
   "cell_type": "code",
   "execution_count": 69,
   "metadata": {},
   "outputs": [],
   "source": [
    "from sklearn.neighbors import KNeighborsClassifier\n",
    "xtrain = train[['YELLOW','SMALL','STRETCH','ADULT']]\n",
    "xtest = test[['YELLOW','SMALL','STRETCH','ADULT']]\n",
    "ytrain = train[['T']]\n",
    "ytest = test[['T']]\n",
    "xtest = np.array(xtest.apply(lambda x: x.cat.codes))\n",
    "xtrain = np.array(xtrain.apply(lambda x: x.cat.codes))\n",
    "ytest = np.array(ytest.apply(lambda x: x.cat.codes)).ravel()\n",
    "ytrain = np.array(ytrain.apply(lambda x: x.cat.codes)).ravel()"
   ]
  },
  {
   "cell_type": "code",
   "execution_count": 70,
   "metadata": {},
   "outputs": [],
   "source": [
    "score = {}\n",
    "for k in range(2,26):\n",
    "    knn = KNeighborsClassifier(n_neighbors=k)\n",
    "    knn.fit(xtrain,ytrain)\n",
    "    ypred = knn.predict(xtest)\n",
    "    score[k] = metrics.accuracy_score(ytest,ypred)"
   ]
  },
  {
   "cell_type": "code",
   "execution_count": 71,
   "metadata": {},
   "outputs": [
    {
     "data": {
      "text/plain": [
       "{2: 0.6818181818181818,\n",
       " 3: 0.6818181818181818,\n",
       " 4: 0.6818181818181818,\n",
       " 5: 0.6818181818181818,\n",
       " 6: 0.5909090909090909,\n",
       " 7: 0.5,\n",
       " 8: 0.6818181818181818,\n",
       " 9: 0.6818181818181818,\n",
       " 10: 0.6818181818181818,\n",
       " 11: 0.7727272727272727,\n",
       " 12: 0.7727272727272727,\n",
       " 13: 0.7727272727272727,\n",
       " 14: 0.7727272727272727,\n",
       " 15: 0.7727272727272727,\n",
       " 16: 0.7272727272727273,\n",
       " 17: 0.7727272727272727,\n",
       " 18: 0.7272727272727273,\n",
       " 19: 0.7272727272727273,\n",
       " 20: 0.6363636363636364,\n",
       " 21: 0.5909090909090909,\n",
       " 22: 0.6363636363636364,\n",
       " 23: 0.6363636363636364,\n",
       " 24: 0.6363636363636364,\n",
       " 25: 0.5454545454545454}"
      ]
     },
     "execution_count": 71,
     "metadata": {},
     "output_type": "execute_result"
    }
   ],
   "source": [
    "score"
   ]
  },
  {
   "cell_type": "code",
   "execution_count": 72,
   "metadata": {},
   "outputs": [
    {
     "name": "stdout",
     "output_type": "stream",
     "text": [
      "\n",
      " Optimal value of k : 2 \n",
      " Accuracy = 68.18181818181817 %\n",
      "\n",
      "\n",
      "              precision    recall  f1-score   support\n",
      "\n",
      "           0       0.82      0.64      0.72        14\n",
      "           1       0.55      0.75      0.63         8\n",
      "\n",
      "    accuracy                           0.68        22\n",
      "   macro avg       0.68      0.70      0.68        22\n",
      "weighted avg       0.72      0.68      0.69        22\n",
      "\n",
      "\n",
      "\n",
      " Time Taken = 0.001266499999928783\n"
     ]
    },
    {
     "data": {
      "text/plain": [
       "<matplotlib.axes._subplots.AxesSubplot at 0x2463588ec88>"
      ]
     },
     "execution_count": 72,
     "metadata": {},
     "output_type": "execute_result"
    },
    {
     "data": {
      "image/png": "[encoded data removed]",
      "text/plain": [
       "<Figure size 432x288 with 1 Axes>"
      ]
     },
     "metadata": {
      "needs_background": "light"
     },
     "output_type": "display_data"
    }
   ],
   "source": [
    "k = 2\n",
    "print('\\n Optimal value of k : {} \\n Accuracy = {} %\\n\\n'.format(k,score[k]*100))\n",
    "s = timeit.timeit()\n",
    "knn = KNeighborsClassifier(n_neighbors=k)\n",
    "knn.fit(xtrain,ytrain)\n",
    "ypred = knn.predict(xtest)\n",
    "e = timeit.timeit()\n",
    "report = metrics.classification_report(ytest,ypred)\n",
    "print(report)\n",
    "print('\\n\\n Time Taken = {}'.format(e-s))\n",
    "yscore = knn.predict_proba(xtest)[:,1]\n",
    "fpr, tpr, thresholds = metrics.roc_curve(ytest,yscore,pos_label=1)\n",
    "sns.lineplot(fpr,tpr)"
   ]
  },
  {
   "cell_type": "markdown",
   "metadata": {},
   "source": [
    "## Decision Tree"
   ]
  },
  {
   "cell_type": "code",
   "execution_count": 73,
   "metadata": {},
   "outputs": [],
   "source": [
    "from sklearn.tree import DecisionTreeClassifier\n"
   ]
  },
  {
   "cell_type": "code",
   "execution_count": 85,
   "metadata": {},
   "outputs": [
    {
     "name": "stdout",
     "output_type": "stream",
     "text": [
      "              precision    recall  f1-score   support\n",
      "\n",
      "           0       0.82      0.64      0.72        14\n",
      "           1       0.55      0.75      0.63         8\n",
      "\n",
      "    accuracy                           0.68        22\n",
      "   macro avg       0.68      0.70      0.68        22\n",
      "weighted avg       0.72      0.68      0.69        22\n",
      "\n",
      "\n",
      "\n",
      " Time Taken = 0.00439509999978327\n"
     ]
    },
    {
     "data": {
      "text/plain": [
       "<matplotlib.axes._subplots.AxesSubplot at 0x246353c85f8>"
      ]
     },
     "execution_count": 85,
     "metadata": {},
     "output_type": "execute_result"
    },
    {
     "data": {
      "image/png": "[encoded data removed]",
      "text/plain": [
       "<Figure size 432x288 with 1 Axes>"
      ]
     },
     "metadata": {
      "needs_background": "light"
     },
     "output_type": "display_data"
    }
   ],
   "source": [
    "s = timeit.timeit()\n",
    "clf = DecisionTreeClassifier(random_state=0)\n",
    "clf.fit(xtrain,ytrain)\n",
    "ypred = clf.predict(xtest)\n",
    "e = timeit.timeit()\n",
    "report = metrics.classification_report(ytest,ypred)\n",
    "print(report)\n",
    "print('\\n\\n Time Taken = {}'.format(e-s))\n",
    "yscore = clf.predict_proba(xtest)[:,1]\n",
    "fpr, tpr, thresholds = metrics.roc_curve(ytest,yscore,pos_label=1)\n",
    "sns.lineplot(fpr,tpr)"
   ]
  },
  {
   "cell_type": "markdown",
   "metadata": {},
   "source": [
    "## Logistic Regression"
   ]
  },
  {
   "cell_type": "code",
   "execution_count": 75,
   "metadata": {},
   "outputs": [],
   "source": [
    "from sklearn.linear_model import LogisticRegression"
   ]
  },
  {
   "cell_type": "code",
   "execution_count": 84,
   "metadata": {},
   "outputs": [
    {
     "name": "stdout",
     "output_type": "stream",
     "text": [
      "              precision    recall  f1-score   support\n",
      "\n",
      "           0       0.71      0.86      0.77        14\n",
      "           1       0.60      0.38      0.46         8\n",
      "\n",
      "    accuracy                           0.68        22\n",
      "   macro avg       0.65      0.62      0.62        22\n",
      "weighted avg       0.67      0.68      0.66        22\n",
      "\n",
      "\n",
      "\n",
      " Time Taken = 0.007099599999946804\n"
     ]
    },
    {
     "data": {
      "text/plain": [
       "<matplotlib.axes._subplots.AxesSubplot at 0x24634da4940>"
      ]
     },
     "execution_count": 84,
     "metadata": {},
     "output_type": "execute_result"
    },
    {
     "data": {
      "image/png": "[encoded data removed]",
      "text/plain": [
       "<Figure size 432x288 with 1 Axes>"
      ]
     },
     "metadata": {
      "needs_background": "light"
     },
     "output_type": "display_data"
    }
   ],
   "source": [
    "s = timeit.timeit()\n",
    "clf = LogisticRegression(random_state=0,solver='lbfgs')\n",
    "clf.fit(xtrain,ytrain)\n",
    "ypred = clf.predict(xtest)\n",
    "e = timeit.timeit()\n",
    "report = metrics.classification_report(ytest,ypred)\n",
    "print(report)\n",
    "print('\\n\\n Time Taken = {}'.format(e-s))\n",
    "yscore = clf.predict_proba(xtest)[:,1]\n",
    "fpr, tpr, thresholds = metrics.roc_curve(ytest,yscore,pos_label=1)\n",
    "sns.lineplot(fpr,tpr)"
   ]
  },
  {
   "cell_type": "markdown",
   "metadata": {},
   "source": [
    "# NAIVE BAYES"
   ]
  },
  {
   "cell_type": "code",
   "execution_count": 80,
   "metadata": {},
   "outputs": [],
   "source": [
    "def Predict(tst,train):\n",
    "    m = len(train)\n",
    "    y = len(train[train['T']=='T'])\n",
    "    n = len(train[train['T']=='F'])\n",
    "    y1 = len(train[(train['YELLOW']==tst['YELLOW']) & (train['T']=='T' )])/y\n",
    "    n1 = len(train[(train['YELLOW']==tst['YELLOW']) & (train['T']=='F' )])/n\n",
    "    y2 = len(train[(train['SMALL']==tst['SMALL']) & (train['T']=='T' )])/y\n",
    "    n2 = len(train[(train['SMALL']==tst['SMALL']) & (train['T']=='F' )])/n\n",
    "    y3 = len(train[(train['STRETCH']==tst['STRETCH']) & (train['T']=='T' )])/y\n",
    "    n3 = len(train[(train['STRETCH']==tst['STRETCH']) & (train['T']=='F' )])/n\n",
    "    y4 = len(train[(train['ADULT']==tst['ADULT']) & (train['T']=='T' )])/y\n",
    "    n4 = len(train[(train['ADULT']==tst['ADULT']) & (train['T']=='F' )])/n\n",
    "    \n",
    "    py = (y/m)*(y1*y2*y3*y4)\n",
    "    pn = (n/m)*(n1*n2*n3*n4)\n",
    "    \n",
    "    t = py/(py + pn)\n",
    "    f = pn/(py + pn)\n",
    "    \n",
    "    if t >= f:\n",
    "        pred = 1\n",
    "    else:\n",
    "        pred = 0\n",
    "    \n",
    "    return t,pred"
   ]
  },
  {
   "cell_type": "code",
   "execution_count": 83,
   "metadata": {},
   "outputs": [
    {
     "name": "stdout",
     "output_type": "stream",
     "text": [
      "              precision    recall  f1-score   support\n",
      "\n",
      "           0       0.69      0.79      0.73        14\n",
      "           1       0.50      0.38      0.43         8\n",
      "\n",
      "    accuracy                           0.64        22\n",
      "   macro avg       0.59      0.58      0.58        22\n",
      "weighted avg       0.62      0.64      0.62        22\n",
      "\n",
      "\n",
      "\n",
      " Time Taken = 0.002494400000159658\n"
     ]
    },
    {
     "data": {
      "text/plain": [
       "<matplotlib.axes._subplots.AxesSubplot at 0x24635932860>"
      ]
     },
     "execution_count": 83,
     "metadata": {},
     "output_type": "execute_result"
    },
    {
     "data": {
      "image/png": "[encoded data removed]",
      "text/plain": [
       "<Figure size 432x288 with 1 Axes>"
      ]
     },
     "metadata": {
      "needs_background": "light"
     },
     "output_type": "display_data"
    }
   ],
   "source": [
    "s = timeit.timeit()\n",
    "ytest = []\n",
    "ypred = []\n",
    "yscore = []\n",
    "for i,tst in test.iterrows():\n",
    "    t,pred = Predict(tst,train)\n",
    "    ypred.append(pred)\n",
    "    yscore.append(t)\n",
    "    if tst['T'] == 'T':\n",
    "        ytest.append(1)\n",
    "    else:\n",
    "        ytest.append(0)\n",
    "ytest = np.array(ytest)\n",
    "ypred = np.array(ypred)\n",
    "yscore = np.array(yscore)\n",
    "e = timeit.timeit()\n",
    "report = metrics.classification_report(ytest,ypred)\n",
    "print(report)\n",
    "print('\\n\\n Time Taken = {}'.format(e-s))\n",
    "fpr, tpr, thresholds = metrics.roc_curve(ytest,yscore,pos_label=1)\n",
    "sns.lineplot(fpr,tpr)"
   ]
  },
  {
   "cell_type": "code",
   "execution_count": null,
   "metadata": {},
   "outputs": [],
   "source": []
  },
  {
   "cell_type": "code",
   "execution_count": null,
   "metadata": {},
   "outputs": [],
   "source": []
  }
 ],
 "metadata": {
  "kernelspec": {
   "display_name": "Python 3",
   "language": "python",
   "name": "python3"
  },
  "language_info": {
   "codemirror_mode": {
    "name": "ipython",
    "version": 3
   },
   "file_extension": ".py",
   "mimetype": "text/x-python",
   "name": "python",
   "nbconvert_exporter": "python",
   "pygments_lexer": "ipython3",
   "version": "3.7.3"
  }
 },
 "nbformat": 4,
 "nbformat_minor": 2
}
