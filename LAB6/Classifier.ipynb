{
 "cells": [
  {
   "cell_type": "code",
   "execution_count": 93,
   "metadata": {},
   "outputs": [],
   "source": [
    "import pandas as pd\n",
    "import numpy as np\n",
    "import timeit\n",
    "import seaborn as sns\n",
    "from sklearn import metrics\n"
   ]
  },
  {
   "cell_type": "code",
   "execution_count": 2,
   "metadata": {},
   "outputs": [],
   "source": [
    "df1 = pd.read_csv('adult+stretch.data') \n",
    "df2 = pd.read_csv('adult-stretch.data') \n",
    "df3 = pd.read_csv('yellow-small+adult-stretch.data') \n",
    "df4 = pd.read_csv('yellow-small.data') \n",
    "df = pd.concat([df1,df2,df3,df4])"
   ]
  },
  {
   "cell_type": "markdown",
   "metadata": {},
   "source": [
    "# STEP - 2"
   ]
  },
  {
   "cell_type": "code",
   "execution_count": 3,
   "metadata": {},
   "outputs": [],
   "source": [
    "from sklearn.model_selection import train_test_split\n",
    "train, test = train_test_split(df, test_size=0.3)\n",
    "train = train.astype('category')\n",
    "test = test.astype('category')\n",
    "x_train = train[['YELLOW','SMALL','STRETCH','ADULT']]\n",
    "x_test = test[['YELLOW','SMALL','STRETCH','ADULT']]\n",
    "y_train = train[['T']]\n",
    "y_test = test[['T']]"
   ]
  },
  {
   "cell_type": "markdown",
   "metadata": {},
   "source": [
    "# STEP - 3"
   ]
  },
  {
   "cell_type": "markdown",
   "metadata": {},
   "source": [
    "## KNN"
   ]
  },
  {
   "cell_type": "code",
   "execution_count": 13,
   "metadata": {},
   "outputs": [],
   "source": [
    "from sklearn.neighbors import KNeighborsClassifier\n",
    "xtrain = train[['YELLOW','SMALL','STRETCH','ADULT']]\n",
    "xtest = test[['YELLOW','SMALL','STRETCH','ADULT']]\n",
    "ytrain = train[['T']]\n",
    "ytest = test[['T']]\n",
    "xtest = np.array(xtest.apply(lambda x: x.cat.codes))\n",
    "xtrain = np.array(xtrain.apply(lambda x: x.cat.codes))\n",
    "ytest = np.array(ytest.apply(lambda x: x.cat.codes)).ravel()\n",
    "ytrain = np.array(ytrain.apply(lambda x: x.cat.codes)).ravel()"
   ]
  },
  {
   "cell_type": "code",
   "execution_count": 40,
   "metadata": {},
   "outputs": [],
   "source": [
    "score = {}\n",
    "for k in range(2,26):\n",
    "    knn = KNeighborsClassifier(n_neighbors=k)\n",
    "    knn.fit(xtrain,ytrain)\n",
    "    ypred = knn.predict(xtest)\n",
    "    score[k] = metrics.accuracy_score(ytest,ypred)"
   ]
  },
  {
   "cell_type": "code",
   "execution_count": 53,
   "metadata": {},
   "outputs": [
    {
     "data": {
      "text/plain": [
       "{2: 0.7727272727272727,\n",
       " 3: 0.7272727272727273,\n",
       " 4: 0.7272727272727273,\n",
       " 5: 0.7272727272727273,\n",
       " 6: 0.6818181818181818,\n",
       " 7: 0.6818181818181818,\n",
       " 8: 0.7727272727272727,\n",
       " 9: 0.6818181818181818,\n",
       " 10: 0.6818181818181818,\n",
       " 11: 0.7727272727272727,\n",
       " 12: 0.7727272727272727,\n",
       " 13: 0.6818181818181818,\n",
       " 14: 0.7727272727272727,\n",
       " 15: 0.7727272727272727,\n",
       " 16: 0.7727272727272727,\n",
       " 17: 0.6818181818181818,\n",
       " 18: 0.6818181818181818,\n",
       " 19: 0.6818181818181818,\n",
       " 20: 0.6818181818181818,\n",
       " 21: 0.7272727272727273,\n",
       " 22: 0.6818181818181818,\n",
       " 23: 0.6818181818181818,\n",
       " 24: 0.6818181818181818,\n",
       " 25: 0.7272727272727273}"
      ]
     },
     "execution_count": 53,
     "metadata": {},
     "output_type": "execute_result"
    }
   ],
   "source": [
    "score"
   ]
  },
  {
   "cell_type": "code",
   "execution_count": 92,
   "metadata": {},
   "outputs": [
    {
     "name": "stdout",
     "output_type": "stream",
     "text": [
      "\n",
      " Optimal value of k : 2 \n",
      " Accuracy = 77.27272727272727 %\n",
      "\n",
      "\n",
      "              precision    recall  f1-score   support\n",
      "\n",
      "           0       0.80      0.86      0.83        14\n",
      "           1       0.71      0.62      0.67         8\n",
      "\n",
      "    accuracy                           0.77        22\n",
      "   macro avg       0.76      0.74      0.75        22\n",
      "weighted avg       0.77      0.77      0.77        22\n",
      "\n",
      "\n",
      "\n",
      " Time Taken = -0.003178399999796966\n"
     ]
    },
    {
     "data": {
      "text/plain": [
       "<matplotlib.axes._subplots.AxesSubplot at 0x2a508da15c0>"
      ]
     },
     "execution_count": 92,
     "metadata": {},
     "output_type": "execute_result"
    },
    {
     "data": {
      "image/png": "[encoded data removed]",
      "text/plain": [
       "<Figure size 432x288 with 1 Axes>"
      ]
     },
     "metadata": {
      "needs_background": "light"
     },
     "output_type": "display_data"
    }
   ],
   "source": [
    "k = 2\n",
    "print('\\n Optimal value of k : {} \\n Accuracy = {} %\\n\\n'.format(k,score[k]*100))\n",
    "s = timeit.timeit()\n",
    "knn = KNeighborsClassifier(n_neighbors=k)\n",
    "knn.fit(xtrain,ytrain)\n",
    "ypred = knn.predict(xtest)\n",
    "e = timeit.timeit()\n",
    "report = metrics.classification_report(ytest,ypred)\n",
    "print(report)\n",
    "print('\\n\\n Time Taken = {}'.format(e-s))\n",
    "yscore = knn.predict_proba(xtest)[:,1]\n",
    "fpr, tpr, thresholds = metrics.roc_curve(ytest,yscore,pos_label=1)\n",
    "sns.lineplot(fpr,tpr)"
   ]
  },
  {
   "cell_type": "markdown",
   "metadata": {},
   "source": [
    "## Decision Tree"
   ]
  },
  {
   "cell_type": "code",
   "execution_count": 94,
   "metadata": {},
   "outputs": [],
   "source": [
    "from sklearn.tree import DecisionTreeClassifier\n"
   ]
  },
  {
   "cell_type": "code",
   "execution_count": 97,
   "metadata": {},
   "outputs": [
    {
     "name": "stdout",
     "output_type": "stream",
     "text": [
      "              precision    recall  f1-score   support\n",
      "\n",
      "           0       0.86      0.86      0.86        14\n",
      "           1       0.75      0.75      0.75         8\n",
      "\n",
      "    accuracy                           0.82        22\n",
      "   macro avg       0.80      0.80      0.80        22\n",
      "weighted avg       0.82      0.82      0.82        22\n",
      "\n",
      "\n",
      "\n",
      " Time Taken = 3.1600000056641875e-05\n"
     ]
    },
    {
     "data": {
      "text/plain": [
       "<matplotlib.axes._subplots.AxesSubplot at 0x2a508ef8fd0>"
      ]
     },
     "execution_count": 97,
     "metadata": {},
     "output_type": "execute_result"
    },
    {
     "data": {
      "image/png": "[encoded data removed]",
      "text/plain": [
       "<Figure size 432x288 with 1 Axes>"
      ]
     },
     "metadata": {
      "needs_background": "light"
     },
     "output_type": "display_data"
    }
   ],
   "source": [
    "s = timeit.timeit()\n",
    "clf = DecisionTreeClassifier(random_state=0)\n",
    "clf.fit(xtrain,ytrain)\n",
    "ypred = clf.predict(xtest)\n",
    "e = timeit.timeit()\n",
    "report = metrics.classification_report(ytest,ypred)\n",
    "print(report)\n",
    "print('\\n\\n Time Taken = {}'.format(e-s))\n",
    "yscore = clf.predict_proba(xtest)[:,1]\n",
    "fpr, tpr, thresholds = metrics.roc_curve(ytest,yscore,pos_label=1)\n",
    "sns.lineplot(fpr,tpr)"
   ]
  },
  {
   "cell_type": "markdown",
   "metadata": {},
   "source": [
    "## Logistic Regression"
   ]
  },
  {
   "cell_type": "code",
   "execution_count": 100,
   "metadata": {},
   "outputs": [],
   "source": [
    "from sklearn.linear_model import LogisticRegression"
   ]
  },
  {
   "cell_type": "code",
   "execution_count": 102,
   "metadata": {},
   "outputs": [
    {
     "name": "stdout",
     "output_type": "stream",
     "text": [
      "              precision    recall  f1-score   support\n",
      "\n",
      "           0       0.83      0.71      0.77        14\n",
      "           1       0.60      0.75      0.67         8\n",
      "\n",
      "    accuracy                           0.73        22\n",
      "   macro avg       0.72      0.73      0.72        22\n",
      "weighted avg       0.75      0.73      0.73        22\n",
      "\n",
      "\n",
      "\n",
      " Time Taken = 0.0019406999999773689\n"
     ]
    },
    {
     "data": {
      "text/plain": [
       "<matplotlib.axes._subplots.AxesSubplot at 0x2a508fbdf60>"
      ]
     },
     "execution_count": 102,
     "metadata": {},
     "output_type": "execute_result"
    },
    {
     "data": {
      "image/png": "[encoded data removed]",
      "text/plain": [
       "<Figure size 432x288 with 1 Axes>"
      ]
     },
     "metadata": {
      "needs_background": "light"
     },
     "output_type": "display_data"
    }
   ],
   "source": [
    "s = timeit.timeit()\n",
    "clf = LogisticRegression(random_state=0,solver='lbfgs')\n",
    "clf.fit(xtrain,ytrain)\n",
    "ypred = clf.predict(xtest)\n",
    "e = timeit.timeit()\n",
    "report = metrics.classification_report(ytest,ypred)\n",
    "print(report)\n",
    "print('\\n\\n Time Taken = {}'.format(e-s))\n",
    "yscore = clf.predict_proba(xtest)[:,1]\n",
    "fpr, tpr, thresholds = metrics.roc_curve(ytest,yscore,pos_label=1)\n",
    "sns.lineplot(fpr,tpr)"
   ]
  },
  {
   "cell_type": "code",
   "execution_count": 104,
   "metadata": {},
   "outputs": [
    {
     "data": {
      "text/html": [
       "<div>\n",
       "<style scoped>\n",
       "    .dataframe tbody tr th:only-of-type {\n",
       "        vertical-align: middle;\n",
       "    }\n",
       "\n",
       "    .dataframe tbody tr th {\n",
       "        vertical-align: top;\n",
       "    }\n",
       "\n",
       "    .dataframe thead th {\n",
       "        text-align: right;\n",
       "    }\n",
       "</style>\n",
       "<table border=\"1\" class=\"dataframe\">\n",
       "  <thead>\n",
       "    <tr style=\"text-align: right;\">\n",
       "      <th></th>\n",
       "      <th>YELLOW</th>\n",
       "      <th>SMALL</th>\n",
       "      <th>STRETCH</th>\n",
       "      <th>ADULT</th>\n",
       "    </tr>\n",
       "  </thead>\n",
       "  <tbody>\n",
       "    <tr>\n",
       "      <th>18</th>\n",
       "      <td>PURPLE</td>\n",
       "      <td>LARGE</td>\n",
       "      <td>DIP</td>\n",
       "      <td>CHILD</td>\n",
       "    </tr>\n",
       "    <tr>\n",
       "      <th>1</th>\n",
       "      <td>YELLOW</td>\n",
       "      <td>SMALL</td>\n",
       "      <td>DIP</td>\n",
       "      <td>ADULT</td>\n",
       "    </tr>\n",
       "    <tr>\n",
       "      <th>17</th>\n",
       "      <td>PURPLE</td>\n",
       "      <td>LARGE</td>\n",
       "      <td>DIP</td>\n",
       "      <td>CHILD</td>\n",
       "    </tr>\n",
       "    <tr>\n",
       "      <th>15</th>\n",
       "      <td>PURPLE</td>\n",
       "      <td>LARGE</td>\n",
       "      <td>STRETCH</td>\n",
       "      <td>ADULT</td>\n",
       "    </tr>\n",
       "    <tr>\n",
       "      <th>5</th>\n",
       "      <td>YELLOW</td>\n",
       "      <td>LARGE</td>\n",
       "      <td>DIP</td>\n",
       "      <td>ADULT</td>\n",
       "    </tr>\n",
       "    <tr>\n",
       "      <th>11</th>\n",
       "      <td>PURPLE</td>\n",
       "      <td>SMALL</td>\n",
       "      <td>STRETCH</td>\n",
       "      <td>CHILD</td>\n",
       "    </tr>\n",
       "    <tr>\n",
       "      <th>3</th>\n",
       "      <td>YELLOW</td>\n",
       "      <td>SMALL</td>\n",
       "      <td>STRETCH</td>\n",
       "      <td>ADULT</td>\n",
       "    </tr>\n",
       "    <tr>\n",
       "      <th>13</th>\n",
       "      <td>PURPLE</td>\n",
       "      <td>LARGE</td>\n",
       "      <td>DIP</td>\n",
       "      <td>ADULT</td>\n",
       "    </tr>\n",
       "    <tr>\n",
       "      <th>12</th>\n",
       "      <td>PURPLE</td>\n",
       "      <td>LARGE</td>\n",
       "      <td>STRETCH</td>\n",
       "      <td>CHILD</td>\n",
       "    </tr>\n",
       "    <tr>\n",
       "      <th>4</th>\n",
       "      <td>YELLOW</td>\n",
       "      <td>LARGE</td>\n",
       "      <td>STRETCH</td>\n",
       "      <td>ADULT</td>\n",
       "    </tr>\n",
       "    <tr>\n",
       "      <th>18</th>\n",
       "      <td>PURPLE</td>\n",
       "      <td>LARGE</td>\n",
       "      <td>DIP</td>\n",
       "      <td>CHILD</td>\n",
       "    </tr>\n",
       "    <tr>\n",
       "      <th>16</th>\n",
       "      <td>PURPLE</td>\n",
       "      <td>LARGE</td>\n",
       "      <td>DIP</td>\n",
       "      <td>ADULT</td>\n",
       "    </tr>\n",
       "    <tr>\n",
       "      <th>2</th>\n",
       "      <td>YELLOW</td>\n",
       "      <td>SMALL</td>\n",
       "      <td>DIP</td>\n",
       "      <td>CHILD</td>\n",
       "    </tr>\n",
       "    <tr>\n",
       "      <th>12</th>\n",
       "      <td>PURPLE</td>\n",
       "      <td>SMALL</td>\n",
       "      <td>STRETCH</td>\n",
       "      <td>CHILD</td>\n",
       "    </tr>\n",
       "    <tr>\n",
       "      <th>15</th>\n",
       "      <td>PURPLE</td>\n",
       "      <td>LARGE</td>\n",
       "      <td>STRETCH</td>\n",
       "      <td>ADULT</td>\n",
       "    </tr>\n",
       "    <tr>\n",
       "      <th>14</th>\n",
       "      <td>PURPLE</td>\n",
       "      <td>SMALL</td>\n",
       "      <td>DIP</td>\n",
       "      <td>CHILD</td>\n",
       "    </tr>\n",
       "    <tr>\n",
       "      <th>17</th>\n",
       "      <td>PURPLE</td>\n",
       "      <td>LARGE</td>\n",
       "      <td>DIP</td>\n",
       "      <td>ADULT</td>\n",
       "    </tr>\n",
       "    <tr>\n",
       "      <th>14</th>\n",
       "      <td>PURPLE</td>\n",
       "      <td>LARGE</td>\n",
       "      <td>STRETCH</td>\n",
       "      <td>ADULT</td>\n",
       "    </tr>\n",
       "    <tr>\n",
       "      <th>13</th>\n",
       "      <td>PURPLE</td>\n",
       "      <td>SMALL</td>\n",
       "      <td>DIP</td>\n",
       "      <td>ADULT</td>\n",
       "    </tr>\n",
       "    <tr>\n",
       "      <th>11</th>\n",
       "      <td>PURPLE</td>\n",
       "      <td>LARGE</td>\n",
       "      <td>STRETCH</td>\n",
       "      <td>ADULT</td>\n",
       "    </tr>\n",
       "    <tr>\n",
       "      <th>10</th>\n",
       "      <td>PURPLE</td>\n",
       "      <td>SMALL</td>\n",
       "      <td>DIP</td>\n",
       "      <td>CHILD</td>\n",
       "    </tr>\n",
       "    <tr>\n",
       "      <th>7</th>\n",
       "      <td>YELLOW</td>\n",
       "      <td>LARGE</td>\n",
       "      <td>STRETCH</td>\n",
       "      <td>ADULT</td>\n",
       "    </tr>\n",
       "  </tbody>\n",
       "</table>\n",
       "</div>"
      ],
      "text/plain": [
       "    YELLOW  SMALL  STRETCH  ADULT\n",
       "18  PURPLE  LARGE      DIP  CHILD\n",
       "1   YELLOW  SMALL      DIP  ADULT\n",
       "17  PURPLE  LARGE      DIP  CHILD\n",
       "15  PURPLE  LARGE  STRETCH  ADULT\n",
       "5   YELLOW  LARGE      DIP  ADULT\n",
       "11  PURPLE  SMALL  STRETCH  CHILD\n",
       "3   YELLOW  SMALL  STRETCH  ADULT\n",
       "13  PURPLE  LARGE      DIP  ADULT\n",
       "12  PURPLE  LARGE  STRETCH  CHILD\n",
       "4   YELLOW  LARGE  STRETCH  ADULT\n",
       "18  PURPLE  LARGE      DIP  CHILD\n",
       "16  PURPLE  LARGE      DIP  ADULT\n",
       "2   YELLOW  SMALL      DIP  CHILD\n",
       "12  PURPLE  SMALL  STRETCH  CHILD\n",
       "15  PURPLE  LARGE  STRETCH  ADULT\n",
       "14  PURPLE  SMALL      DIP  CHILD\n",
       "17  PURPLE  LARGE      DIP  ADULT\n",
       "14  PURPLE  LARGE  STRETCH  ADULT\n",
       "13  PURPLE  SMALL      DIP  ADULT\n",
       "11  PURPLE  LARGE  STRETCH  ADULT\n",
       "10  PURPLE  SMALL      DIP  CHILD\n",
       "7   YELLOW  LARGE  STRETCH  ADULT"
      ]
     },
     "execution_count": 104,
     "metadata": {},
     "output_type": "execute_result"
    }
   ],
   "source": [
    "x_test"
   ]
  },
  {
   "cell_type": "code",
   "execution_count": null,
   "metadata": {},
   "outputs": [],
   "source": []
  }
 ],
 "metadata": {
  "kernelspec": {
   "display_name": "Python 3",
   "language": "python",
   "name": "python3"
  },
  "language_info": {
   "codemirror_mode": {
    "name": "ipython",
    "version": 3
   },
   "file_extension": ".py",
   "mimetype": "text/x-python",
   "name": "python",
   "nbconvert_exporter": "python",
   "pygments_lexer": "ipython3",
   "version": "3.7.3"
  }
 },
 "nbformat": 4,
 "nbformat_minor": 2
}
