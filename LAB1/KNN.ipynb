{
 "cells": [
  {
   "cell_type": "code",
   "execution_count": 9,
   "metadata": {},
   "outputs": [],
   "source": [
    "file = open(\"iris.data\")\n",
    "data = file.readlines()\n",
    "data = [d.split(',') for d in data[:-1]]\n",
    "\n",
    "X = [d[:-1] for d in data]\n",
    "for i in range(len(X)):\n",
    "    X[i] = [float(x) for x in X[i]]\n",
    "\n",
    "\n",
    "Y = [d[-1] for d in data]\n",
    "dic = {}\n",
    "for k,v in enumerate(set(Y)):\n",
    "    dic[v]=k\n",
    "Y = [dic[v] for v in Y]"
   ]
  },
  {
   "cell_type": "code",
   "execution_count": null,
   "metadata": {},
   "outputs": [],
   "source": []
  }
 ],
 "metadata": {
  "kernelspec": {
   "display_name": "Python 3",
   "language": "python",
   "name": "python3"
  },
  "language_info": {
   "codemirror_mode": {
    "name": "ipython",
    "version": 3
   },
   "file_extension": ".py",
   "mimetype": "text/x-python",
   "name": "python",
   "nbconvert_exporter": "python",
   "pygments_lexer": "ipython3",
   "version": "3.7.3"
  }
 },
 "nbformat": 4,
 "nbformat_minor": 2
}
