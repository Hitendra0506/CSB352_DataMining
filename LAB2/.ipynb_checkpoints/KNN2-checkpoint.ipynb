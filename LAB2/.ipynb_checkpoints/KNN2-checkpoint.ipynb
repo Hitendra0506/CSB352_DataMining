{
 "cells": [
  {
   "cell_type": "code",
   "execution_count": 1,
   "metadata": {},
   "outputs": [],
   "source": [
    "import numpy as np"
   ]
  },
  {
   "cell_type": "code",
   "execution_count": 2,
   "metadata": {},
   "outputs": [],
   "source": [
    "def GetData():\n",
    "    file = open(\"iris.data\")\n",
    "    data = file.readlines()\n",
    "    data = [d.split(',') for d in data[:-1]]\n",
    "\n",
    "    X = [d[:-1] for d in data]\n",
    "    for i in range(len(X)):\n",
    "        X[i] = [float(x) for x in X[i]]\n",
    "\n",
    "\n",
    "    Y = [d[-1] for d in data]\n",
    "    dic = {}\n",
    "    for k,v in enumerate(set(Y)):\n",
    "        dic[v]=k\n",
    "    Y = [dic[v] for v in Y]\n",
    "    \n",
    "    X = np.array(X)\n",
    "    Y = np.array(Y)\n",
    "    Y = np.reshape(Y,(150,1))\n",
    "    data = np.append(X,Y,1)\n",
    "    setosa = data[0:50]\n",
    "    versicolor = data[50:100]\n",
    "    virginica = data[100:]\n",
    "    np.random.shuffle(setosa)\n",
    "    np.random.shuffle(versicolor)\n",
    "    np.random.shuffle(virginica)\n",
    "    train = np.concatenate((setosa[0:30],versicolor[0:30],virginica[0:30]),axis=0)\n",
    "    val = np.concatenate((setosa[30:40],versicolor[30:40],virginica[30:40]),axis=0)\n",
    "    test = np.concatenate((setosa[40:],versicolor[40:],virginica[40:]),axis=0)\n",
    "    np.random.shuffle(train)\n",
    "    np.random.shuffle(val)\n",
    "    np.random.shuffle(test)\n",
    "    \n",
    "    return train,val,test,dic\n"
   ]
  },
  {
   "cell_type": "code",
   "execution_count": 3,
   "metadata": {},
   "outputs": [],
   "source": [
    "train,val,test,dic = GetData()"
   ]
  },
  {
   "cell_type": "code",
   "execution_count": 4,
   "metadata": {},
   "outputs": [],
   "source": [
    "def euclidean_distance(a, b):\n",
    "    distance = np.linalg.norm(a[:-1]-b[:-1])\n",
    "    return distance"
   ]
  },
  {
   "cell_type": "code",
   "execution_count": 5,
   "metadata": {},
   "outputs": [],
   "source": [
    "def get_k_neighbors(train, test_row, k):\n",
    "    distances = list()\n",
    "    for train_row in train:\n",
    "        dist = euclidean_distance(test_row, train_row)\n",
    "        distances.append((train_row, dist))\n",
    "    distances.sort(key=lambda t: t[1])\n",
    "    neighbors = list()\n",
    "    for i in range(k):\n",
    "        neighbors.append(distances[i][0])\n",
    "    return neighbors"
   ]
  },
  {
   "cell_type": "code",
   "execution_count": 6,
   "metadata": {},
   "outputs": [],
   "source": [
    "def predict(train, test_row, k):\n",
    "    neighbors = get_k_neighbors(train, test_row, k)\n",
    "    output_values = [row[-1] for row in neighbors]\n",
    "    prediction = max(set(output_values), key=output_values.count)\n",
    "    return prediction,neighbors"
   ]
  },
  {
   "cell_type": "code",
   "execution_count": 7,
   "metadata": {},
   "outputs": [],
   "source": [
    "def validation(train,val,k):\n",
    "    accuracy = 0\n",
    "    for v in val:\n",
    "        act = v[4]\n",
    "        pred,neighbour = predict(train,v,k)\n",
    "        #print(' Actual : {} Predicted : {} Data : {} Neighbour : {}'.format(int(act),int(pred),v,neighbour))\n",
    "        if pred == act:\n",
    "            accuracy += 1\n",
    "    accuracy = (accuracy*100)/len(val)\n",
    "    return accuracy\n",
    "        "
   ]
  },
  {
   "cell_type": "code",
   "execution_count": 8,
   "metadata": {},
   "outputs": [
    {
     "name": "stdout",
     "output_type": "stream",
     "text": [
      " k = 1 Accuracy = 93.33333333333333 %\n",
      " k = 2 Accuracy = 93.33333333333333 %\n",
      " k = 3 Accuracy = 96.66666666666667 %\n",
      " k = 4 Accuracy = 96.66666666666667 %\n",
      " k = 5 Accuracy = 96.66666666666667 %\n",
      " k = 6 Accuracy = 96.66666666666667 %\n",
      " k = 7 Accuracy = 96.66666666666667 %\n",
      " k = 8 Accuracy = 96.66666666666667 %\n",
      " k = 9 Accuracy = 96.66666666666667 %\n",
      " k = 10 Accuracy = 96.66666666666667 %\n",
      " k = 11 Accuracy = 96.66666666666667 %\n",
      " k = 12 Accuracy = 96.66666666666667 %\n",
      " k = 13 Accuracy = 96.66666666666667 %\n",
      " k = 14 Accuracy = 96.66666666666667 %\n",
      " k = 15 Accuracy = 96.66666666666667 %\n"
     ]
    }
   ],
   "source": [
    "for k in range(1,16):\n",
    "    print(' k = {} Accuracy = {} %'.format(k,validation(train,val,k)))\n"
   ]
  },
  {
   "cell_type": "code",
   "execution_count": 9,
   "metadata": {},
   "outputs": [],
   "source": [
    "def CalculateAccuracy(train,test,k):\n",
    "    accuracy = 0\n",
    "    for t in test:\n",
    "        act = t[4]\n",
    "        pred,neighbour = predict(train,t,k)\n",
    "        #print(' Actual : {} Predicted : {} Data : {} Neighbour : {}'.format(int(act),int(pred),v,neighbour))\n",
    "        if pred == act:\n",
    "            accuracy += 1\n",
    "    accuracy = (accuracy*100)/len(test)\n",
    "    return accuracy\n",
    "        "
   ]
  },
  {
   "cell_type": "code",
   "execution_count": 10,
   "metadata": {},
   "outputs": [
    {
     "name": "stdout",
     "output_type": "stream",
     "text": [
      " k = 7 Accuracy = 100.0 %\n"
     ]
    }
   ],
   "source": [
    "k = 7\n",
    "print(' k = {} Accuracy = {} %'.format(k,CalculateAccuracy(train,test,k)))\n"
   ]
  },
  {
   "cell_type": "code",
   "execution_count": null,
   "metadata": {},
   "outputs": [],
   "source": []
  }
 ],
 "metadata": {
  "kernelspec": {
   "display_name": "Python 3",
   "language": "python",
   "name": "python3"
  },
  "language_info": {
   "codemirror_mode": {
    "name": "ipython",
    "version": 3
   },
   "file_extension": ".py",
   "mimetype": "text/x-python",
   "name": "python",
   "nbconvert_exporter": "python",
   "pygments_lexer": "ipython3",
   "version": "3.7.3"
  }
 },
 "nbformat": 4,
 "nbformat_minor": 2
}
